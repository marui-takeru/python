{
 "cells": [
  {
   "cell_type": "code",
   "execution_count": 1,
   "id": "c6b27b40-7169-4c05-9251-5ca211dd7955",
   "metadata": {},
   "outputs": [],
   "source": [
    "import numpy as np"
   ]
  },
  {
   "cell_type": "code",
   "execution_count": 7,
   "id": "ae683fe6-e674-408f-a1cf-10931a702f28",
   "metadata": {},
   "outputs": [
    {
     "name": "stdout",
     "output_type": "stream",
     "text": [
      ""
     ]
    },
    {
     "name": "stderr",
     "output_type": "stream",
     "text": [
      "/var/folders/03/jc8gr2cj40b0w16cyn2vkjn40000gn/T/ipykernel_80411/3837376655.py:1: VisibleDeprecationWarning: Reading unicode strings without specifying the encoding argument is deprecated. Set the encoding, use None for the system default.\n",
      "  riko = np.genfromtxt('.txt', dtype = None, delimiter = \"\\t\")\n"
     ]
    }
   ],
   "source": [
    "riko = np.genfromtxt('.txt', dtype = None, delimiter = \"\\t\")\n",
    "print(riko)"
   ]
  },
  {
   "cell_type": "code",
   "execution_count": 4,
   "id": "9aebf767-67ec-49b9-bc56-81bc021f25af",
   "metadata": {},
   "outputs": [
    {
     "name": "stdout",
     "output_type": "stream",
     "text": [
      ""
     ]
    }
   ],
   "source": []
  },
  {
   "cell_type": "code",
   "execution_count": 6,
   "id": "181a436a-0935-4f4d-96cc-774376d8732d",
   "metadata": {},
   "outputs": [
    {
     "name": "stdout",
     "output_type": "stream",
     "text": [
      "0\n",
      ""
     ]
    }
   ],
   "source": [
    "with open('.txt') as f:\n",
    "    for i, line in enumerate(f):\n",
    "        if 'OVERFLOW' in line:\n",
    "            break\n",
    "print(i)\n",
    "print(line)"
   ]
  },
  {
   "cell_type": "code",
   "execution_count": null,
   "id": "2182f34b-3fef-4381-bb54-595f9ce2965d",
   "metadata": {},
   "outputs": [],
   "source": []
  }
 ],
 "metadata": {
  "kernelspec": {
   "display_name": "Python 3 (ipykernel)",
   "language": "python",
   "name": "python3"
  },
  "language_info": {
   "codemirror_mode": {
    "name": "ipython",
    "version": 3
   },
   "file_extension": ".py",
   "mimetype": "text/x-python",
   "name": "python",
   "nbconvert_exporter": "python",
   "pygments_lexer": "ipython3",
   "version": "3.9.12"
  }
 },
 "nbformat": 4,
 "nbformat_minor": 5
}
